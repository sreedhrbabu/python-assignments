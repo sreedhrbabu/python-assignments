{
 "cells": [
  {
   "cell_type": "code",
   "execution_count": 1,
   "metadata": {},
   "outputs": [
    {
     "name": "stdout",
     "output_type": "stream",
     "text": [
      "Input some integers to calculate their sum and average. Input 0 to exit.\n"
     ]
    },
    {
     "name": "stdin",
     "output_type": "stream",
     "text": [
      " 25\n",
      " 36\n",
      " 69\n",
      " 0\n"
     ]
    },
    {
     "name": "stdout",
     "output_type": "stream",
     "text": [
      "Avg and Sum of the above numbers are:  43.333333333333336 130.0\n"
     ]
    }
   ],
   "source": [
    "#63\n",
    "print(\"Input some integers to calculate their sum and average. Input 0 to exit.\")\n",
    "\n",
    "count = 0\n",
    "sum = 0.0\n",
    "number = 1\n",
    "\n",
    "while number != 0:\n",
    "    number = int(input(\"\"))\n",
    "    sum = sum + number\n",
    "    count += 1\n",
    "\n",
    "if count == 0:\n",
    "    print(\"Input some numbers\")\n",
    "else:\n",
    "    print(\"Avg and Sum of the above numbers are: \", sum / (count-1), sum)"
   ]
  },
  {
   "cell_type": "code",
   "execution_count": 3,
   "metadata": {},
   "outputs": [
    {
     "name": "stdin",
     "output_type": "stream",
     "text": [
      "Enter the x part of the coordinate:  56\n",
      "Enter the y part of the coordinate:  65\n",
      "Enter the x part of the coordinate (blank to quit):  25\n",
      "Enter the y part of the coordinate:  26\n",
      "Enter the x part of the coordinate (blank to quit):  \n"
     ]
    },
    {
     "name": "stdout",
     "output_type": "stream",
     "text": [
      "The perimeter of that polygon is 99.6393496566492\n"
     ]
    }
   ],
   "source": [
    "#67\n",
    "from math import sqrt \n",
    "\n",
    "perimeter = 0\n",
    "\n",
    "first_x = float(input(\"Enter the x part of the coordinate: \"))\n",
    "first_y = float(input(\"Enter the y part of the coordinate: \"))\n",
    "\n",
    "prev_x = first_x\n",
    "prev_y = first_y\n",
    "\n",
    "line = input(\"Enter the x part of the coordinate (blank to quit): \")\n",
    "\n",
    "while line != \"\":\n",
    "  x = float(line)\n",
    "  y = float(input(\"Enter the y part of the coordinate: \"))\n",
    "\n",
    "  dist = sqrt((prev_x - x ) ** 2 +(prev_y - y) ** 2)\n",
    "  perimeter = perimeter + dist \n",
    "\n",
    "  prev_x = x \n",
    "  prev_y = y \n",
    "  line = input(\"Enter the x part of the coordinate (blank to quit): \")\n",
    "\n",
    "  dist = sqrt((first_x - x) ** 2 + (first_y - y) ** 2)\n",
    "  perimeter = perimeter + dist\n",
    "\n",
    "  print(f\"The perimeter of that polygon is {perimeter}\")"
   ]
  },
  {
   "cell_type": "code",
   "execution_count": 4,
   "metadata": {},
   "outputs": [
    {
     "name": "stdout",
     "output_type": "stream",
     "text": [
      "C    F\n",
      "10 50.0\n",
      "20 68.0\n",
      "30 86.0\n",
      "40 104.0\n",
      "50 122.0\n",
      "60 140.0\n",
      "70 158.0\n",
      "80 176.0\n",
      "90 194.0\n",
      "100 212.0\n"
     ]
    }
   ],
   "source": [
    "#65\n",
    "print('C    F')\n",
    "\n",
    "C = 10\n",
    "for c in range(10):\n",
    "    F = 9 * C / 5 + 32\n",
    "    print(C,F)\n",
    "    C += 10"
   ]
  },
  {
   "cell_type": "code",
   "execution_count": 6,
   "metadata": {},
   "outputs": [
    {
     "name": "stdin",
     "output_type": "stream",
     "text": [
      "ENTER THE NUMBERS(BLANK TO QUIT) A\n",
      "ENTER THE NUMBERS(BLANK TO QUIT) B+\n",
      "ENTER THE NUMBERS(BLANK TO QUIT) B\n",
      "ENTER THE NUMBERS(BLANK TO QUIT) \n"
     ]
    },
    {
     "name": "stdout",
     "output_type": "stream",
     "text": [
      "3.1\n"
     ]
    }
   ],
   "source": [
    "#68\n",
    "count = 0\n",
    "sum = float()\n",
    "while True:\n",
    "    a = input(\"ENTER THE NUMBERS(BLANK TO QUIT)\")\n",
    "    if a == \"\":\n",
    "        print(sum / count)\n",
    "        break\n",
    "    count += 1\n",
    "    if a == \"A\":\n",
    "        sum += 4.0\n",
    "    elif a == \"A-\":\n",
    "        sum += 3.7\n",
    "    elif a == \"B+\":\n",
    "        sum += 2.3\n",
    "    elif a == \"B\":\n",
    "        sum += 3.0"
   ]
  },
  {
   "cell_type": "code",
   "execution_count": 7,
   "metadata": {},
   "outputs": [
    {
     "name": "stdin",
     "output_type": "stream",
     "text": [
      "ENTER THE AGE OF THE PEOPLE 45\n",
      "ENTER THE AGE OF THE PEOPLE 56\n",
      "ENTER THE AGE OF THE PEOPLE 25\n",
      "ENTER THE AGE OF THE PEOPLE 25\n",
      "ENTER THE AGE OF THE PEOPLE \n"
     ]
    },
    {
     "name": "stdout",
     "output_type": "stream",
     "text": [
      "kinder: 0\n",
      "children: 0\n",
      "seniors: 0\n",
      "others 4\n",
      "--------------\n",
      "TOTAL PRICE IS : 92.000000\n"
     ]
    }
   ],
   "source": [
    "#69\n",
    "kinder = 0\n",
    "children = 0\n",
    "seniors = 0\n",
    "others = 0\n",
    "while True:\n",
    "    a = input(\"ENTER THE AGE OF THE PEOPLE\")\n",
    "    if a == \"\":\n",
    "        print(\"kinder:\",kinder)\n",
    "        print(\"children:\",children)\n",
    "        print(\"seniors:\",seniors)\n",
    "        print(\"others\",others)\n",
    "        print(\"--------------\")\n",
    "        total = children * 14 + seniors * 18 + others * 23\n",
    "        print(\"TOTAL PRICE IS :\",'%2f' %total)\n",
    "        break\n",
    "    a = int(a)\n",
    "    \n",
    "    \n",
    "    if a <= 2:\n",
    "        kinder += 1\n",
    "    elif 3>= a <= 12:\n",
    "        children += 1\n",
    "    elif a >= 65:\n",
    "        seniors += 1\n",
    "    else:\n",
    "        others += 1"
   ]
  },
  {
   "cell_type": "code",
   "execution_count": 10,
   "metadata": {},
   "outputs": [
    {
     "name": "stdout",
     "output_type": "stream",
     "text": [
      "1\n",
      "2\n",
      "FIZZ\n",
      "4\n",
      "BUZZ\n",
      "FIZZ\n",
      "7\n",
      "8\n",
      "FIZZ\n",
      "BUZZ\n",
      "11\n",
      "FIZZ\n",
      "13\n",
      "14\n",
      "FIZZBUZZ\n",
      "16\n",
      "17\n",
      "FIZZ\n",
      "19\n",
      "BUZZ\n",
      "FIZZ\n",
      "22\n",
      "23\n",
      "FIZZ\n",
      "BUZZ\n",
      "26\n",
      "FIZZ\n",
      "28\n",
      "29\n",
      "FIZZBUZZ\n",
      "31\n",
      "32\n",
      "FIZZ\n",
      "34\n",
      "BUZZ\n",
      "FIZZ\n",
      "37\n",
      "38\n",
      "FIZZ\n",
      "BUZZ\n",
      "41\n",
      "FIZZ\n",
      "43\n",
      "44\n",
      "FIZZBUZZ\n",
      "46\n",
      "47\n",
      "FIZZ\n",
      "49\n",
      "BUZZ\n",
      "FIZZ\n",
      "52\n",
      "53\n",
      "FIZZ\n",
      "BUZZ\n",
      "56\n",
      "FIZZ\n",
      "58\n",
      "59\n",
      "FIZZBUZZ\n",
      "61\n",
      "62\n",
      "FIZZ\n",
      "64\n",
      "BUZZ\n",
      "FIZZ\n",
      "67\n",
      "68\n",
      "FIZZ\n",
      "BUZZ\n",
      "71\n",
      "FIZZ\n",
      "73\n",
      "74\n",
      "FIZZBUZZ\n",
      "76\n",
      "77\n",
      "FIZZ\n",
      "79\n",
      "BUZZ\n",
      "FIZZ\n",
      "82\n",
      "83\n",
      "FIZZ\n",
      "BUZZ\n",
      "86\n",
      "FIZZ\n",
      "88\n",
      "89\n",
      "FIZZBUZZ\n",
      "91\n",
      "92\n",
      "FIZZ\n",
      "94\n",
      "BUZZ\n",
      "FIZZ\n",
      "97\n",
      "98\n",
      "FIZZ\n",
      "BUZZ\n"
     ]
    }
   ],
   "source": [
    "#72\n",
    "for fizzbuzz in range(1,101):\n",
    "    if fizzbuzz % 3== 0 and fizzbuzz% 5 == 0:\n",
    "        print(\"FIZZBUZZ\")\n",
    "        continue\n",
    "    elif fizzbuzz % 3 == 0:\n",
    "        print(\"FIZZ\")\n",
    "        continue\n",
    "    elif fizzbuzz % 5 == 0:\n",
    "        print(\"BUZZ\")\n",
    "        continue\n",
    "    print(fizzbuzz)"
   ]
  },
  {
   "cell_type": "code",
   "execution_count": null,
   "metadata": {},
   "outputs": [],
   "source": []
  }
 ],
 "metadata": {
  "kernelspec": {
   "display_name": "Python 3",
   "language": "python",
   "name": "python3"
  },
  "language_info": {
   "codemirror_mode": {
    "name": "ipython",
    "version": 3
   },
   "file_extension": ".py",
   "mimetype": "text/x-python",
   "name": "python",
   "nbconvert_exporter": "python",
   "pygments_lexer": "ipython3",
   "version": "3.7.6"
  }
 },
 "nbformat": 4,
 "nbformat_minor": 4
}
